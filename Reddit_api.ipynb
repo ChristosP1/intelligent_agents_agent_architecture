{
 "cells": [
  {
   "cell_type": "code",
   "execution_count": 1,
   "metadata": {},
   "outputs": [
    {
     "name": "stdout",
     "output_type": "stream",
     "text": [
      "Title: Lad wrote a Python script to download Alexa voice recordings, he didn't expect this email., Score: 12339, URL: https://i.redd.it/2s0dj8ob12u41.png\n",
      "Title: This post has:, Score: 9239, URL: https://www.reddit.com/r/Python/comments/hoolsm/this_post_has/\n",
      "Title: I redesign the Python logo to make it more modern, Score: 7859, URL: https://i.redd.it/rxezjyf4ojx41.png\n",
      "Title: Automate the boring stuff with python - tinder, Score: 6730, URL: https://gfycat.com/PointlessSimplisticAmericanquarterhorse\n",
      "Title: I'm excited to share my first published book, Introduction to Python Programming for Business and Social Science Applications -- specifically geared towards students not specifically in computer science, Score: 6506, URL: https://i.redd.it/ebmh8z3c8rm51.png\n"
     ]
    }
   ],
   "source": [
    "import praw\n",
    "\n",
    "# Create a Reddit instance using your credentials\n",
    "reddit = praw.Reddit(\n",
    "    client_id='',\n",
    "    client_secret='Z',\n",
    "    user_agent='my_reddit_app',\n",
    ")\n",
    "\n",
    "# Fetch top 5 posts from the 'Python' subreddit\n",
    "subreddit = reddit.subreddit('Python')\n",
    "top_posts = subreddit.top(limit=5)\n",
    "\n",
    "for post in top_posts:\n",
    "    print(f\"Title: {post.title}, Score: {post.score}, URL: {post.url}\")\n"
   ]
  }
 ],
 "metadata": {
  "kernelspec": {
   "display_name": "intelligent_agent",
   "language": "python",
   "name": "python3"
  },
  "language_info": {
   "codemirror_mode": {
    "name": "ipython",
    "version": 3
   },
   "file_extension": ".py",
   "mimetype": "text/x-python",
   "name": "python",
   "nbconvert_exporter": "python",
   "pygments_lexer": "ipython3",
   "version": "3.11.10"
  }
 },
 "nbformat": 4,
 "nbformat_minor": 2
}
